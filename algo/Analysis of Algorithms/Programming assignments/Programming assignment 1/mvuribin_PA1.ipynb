{
 "cells": [
  {
   "cell_type": "code",
   "execution_count": 10,
   "id": "89e07eff",
   "metadata": {},
   "outputs": [
    {
     "name": "stdout",
     "output_type": "stream",
     "text": [
      "4 3\n",
      "1 2\n",
      "2 3\n",
      "1 3\n",
      "2\n",
      "3\n"
     ]
    }
   ],
   "source": [
    "def graph_input():\n",
    "    global no_of_vertices,no_of_edges\n",
    "    global u,v\n",
    "    edges=[]\n",
    "    no_of_vertices,no_of_edges=map(int,input().split())\n",
    "    for i in range(no_of_edges):\n",
    "        connection=list(map(int, input().split()))\n",
    "        edges.append(connection)\n",
    "    return edges\n",
    "\n",
    "def adjacency_matrix(edges):\n",
    "        adj_edges=[[]for i in range(no_of_vertices)]\n",
    "        for x,y in edges:\n",
    "            #adj_edges[x-1].append(y)\n",
    "            #adj_edges[y-1].append(x)\n",
    "            adj_edges[x-1].insert(x-1,y)\n",
    "            adj_edges[y-1].insert(y-1,x)\n",
    "        return adj_edges\n",
    "    \n",
    "\n",
    "def depth_first_search(adj_edges,connected_edges,vertex,visited):\n",
    "    visited[vertex-1]=1\n",
    "    connected_edges.append(vertex)\n",
    "    for i in adj_edges[vertex-1]:\n",
    "        if(visited[i-1]==0):\n",
    "            connected_edges=depth_first_search(adj_edges,connected_edges,i,visited)\n",
    "    return connected_edges   \n",
    "                 \n",
    "components=0\n",
    "max_length=0\n",
    "e=graph_input()\n",
    "visited=[0 for i in range(no_of_vertices)]\n",
    "ae=adjacency_matrix(e)\n",
    "for i in range(no_of_vertices):\n",
    "    if(visited[i]==0):\n",
    "        connected_edges=[]\n",
    "        components+=1\n",
    "        max_length=max(max_length,len(depth_first_search(ae,connected_edges,i+1,visited)))\n",
    "print(components)\n",
    "print(max_length)"
   ]
  }
 ],
 "metadata": {
  "kernelspec": {
   "display_name": "Python 3 (ipykernel)",
   "language": "python",
   "name": "python3"
  },
  "language_info": {
   "codemirror_mode": {
    "name": "ipython",
    "version": 3
   },
   "file_extension": ".py",
   "mimetype": "text/x-python",
   "name": "python",
   "nbconvert_exporter": "python",
   "pygments_lexer": "ipython3",
   "version": "3.10.2"
  }
 },
 "nbformat": 4,
 "nbformat_minor": 5
}
